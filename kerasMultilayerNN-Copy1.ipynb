{
 "cells": [
  {
   "cell_type": "markdown",
   "metadata": {},
   "source": [
    "### Developing Multilayer Neural Networks with Keras"
   ]
  },
  {
   "cell_type": "code",
   "execution_count": 110,
   "metadata": {},
   "outputs": [],
   "source": [
    "import numpy as np\n",
    "import pandas as pd"
   ]
  },
  {
   "cell_type": "code",
   "execution_count": 111,
   "metadata": {},
   "outputs": [],
   "source": [
    "data = pd.read_csv('lemmNgramsBenefits2Contraindications3.csv', encoding='unicode_escape')"
   ]
  },
  {
   "cell_type": "code",
   "execution_count": 112,
   "metadata": {},
   "outputs": [
    {
     "data": {
      "text/plain": [
       "(456, 545)"
      ]
     },
     "execution_count": 112,
     "metadata": {},
     "output_type": "execute_result"
    }
   ],
   "source": [
    "data.shape"
   ]
  },
  {
   "cell_type": "code",
   "execution_count": 113,
   "metadata": {},
   "outputs": [
    {
     "data": {
      "text/html": [
       "<div>\n",
       "<style scoped>\n",
       "    .dataframe tbody tr th:only-of-type {\n",
       "        vertical-align: middle;\n",
       "    }\n",
       "\n",
       "    .dataframe tbody tr th {\n",
       "        vertical-align: top;\n",
       "    }\n",
       "\n",
       "    .dataframe thead th {\n",
       "        text-align: right;\n",
       "    }\n",
       "</style>\n",
       "<table border=\"1\" class=\"dataframe\">\n",
       "  <thead>\n",
       "    <tr style=\"text-align: right;\">\n",
       "      <th></th>\n",
       "      <th>modality</th>\n",
       "      <th>lemmatizedContraindications</th>\n",
       "      <th>lemmatizedBenefits</th>\n",
       "      <th>ache.improve</th>\n",
       "      <th>ache.relieve</th>\n",
       "      <th>acute.pain</th>\n",
       "      <th>adhesion.heal</th>\n",
       "      <th>adhesion.improve</th>\n",
       "      <th>adhesion.improves</th>\n",
       "      <th>adhesion.increase</th>\n",
       "      <th>...</th>\n",
       "      <th>unable.sit.still</th>\n",
       "      <th>uterine.disease.fibroid</th>\n",
       "      <th>wound.anemia.blood</th>\n",
       "      <th>wound.aneurism.history</th>\n",
       "      <th>wound.area.sore</th>\n",
       "      <th>wound.cut.rash</th>\n",
       "      <th>wound.directly.surgical</th>\n",
       "      <th>wound.pregnant.heart</th>\n",
       "      <th>wound.skin.rash</th>\n",
       "      <th>wound.sore.sensitive</th>\n",
       "    </tr>\n",
       "  </thead>\n",
       "  <tbody>\n",
       "    <tr>\n",
       "      <td>0</td>\n",
       "      <td>Myofascial Massage</td>\n",
       "      <td>dehydration local site wound sore sensitive sk...</td>\n",
       "      <td>muscle trauma muscle spasm pain trigger point</td>\n",
       "      <td>0</td>\n",
       "      <td>0</td>\n",
       "      <td>0</td>\n",
       "      <td>0</td>\n",
       "      <td>0</td>\n",
       "      <td>0</td>\n",
       "      <td>0</td>\n",
       "      <td>...</td>\n",
       "      <td>0</td>\n",
       "      <td>0</td>\n",
       "      <td>0</td>\n",
       "      <td>0</td>\n",
       "      <td>0</td>\n",
       "      <td>0</td>\n",
       "      <td>0</td>\n",
       "      <td>0</td>\n",
       "      <td>0</td>\n",
       "      <td>1</td>\n",
       "    </tr>\n",
       "    <tr>\n",
       "      <td>1</td>\n",
       "      <td>Prenatal Massage</td>\n",
       "      <td>dehydration high risk pregnancy history painfu...</td>\n",
       "      <td>improved circulation better sleep pain relief ...</td>\n",
       "      <td>0</td>\n",
       "      <td>0</td>\n",
       "      <td>0</td>\n",
       "      <td>0</td>\n",
       "      <td>0</td>\n",
       "      <td>0</td>\n",
       "      <td>0</td>\n",
       "      <td>...</td>\n",
       "      <td>0</td>\n",
       "      <td>1</td>\n",
       "      <td>0</td>\n",
       "      <td>0</td>\n",
       "      <td>0</td>\n",
       "      <td>0</td>\n",
       "      <td>0</td>\n",
       "      <td>0</td>\n",
       "      <td>0</td>\n",
       "      <td>0</td>\n",
       "    </tr>\n",
       "    <tr>\n",
       "      <td>2</td>\n",
       "      <td>Shiatsu Massage</td>\n",
       "      <td>dehydration fever rash infection mental disord...</td>\n",
       "      <td>improved circulation relaxing detox break apar...</td>\n",
       "      <td>0</td>\n",
       "      <td>0</td>\n",
       "      <td>0</td>\n",
       "      <td>0</td>\n",
       "      <td>0</td>\n",
       "      <td>1</td>\n",
       "      <td>0</td>\n",
       "      <td>...</td>\n",
       "      <td>0</td>\n",
       "      <td>0</td>\n",
       "      <td>0</td>\n",
       "      <td>0</td>\n",
       "      <td>0</td>\n",
       "      <td>0</td>\n",
       "      <td>0</td>\n",
       "      <td>0</td>\n",
       "      <td>0</td>\n",
       "      <td>0</td>\n",
       "    </tr>\n",
       "    <tr>\n",
       "      <td>3</td>\n",
       "      <td>Hot Stone Therapy Massage</td>\n",
       "      <td>dehydration fever rash infection mental disord...</td>\n",
       "      <td>relax client reduce stress calming increase h...</td>\n",
       "      <td>0</td>\n",
       "      <td>0</td>\n",
       "      <td>0</td>\n",
       "      <td>0</td>\n",
       "      <td>1</td>\n",
       "      <td>0</td>\n",
       "      <td>0</td>\n",
       "      <td>...</td>\n",
       "      <td>0</td>\n",
       "      <td>0</td>\n",
       "      <td>0</td>\n",
       "      <td>0</td>\n",
       "      <td>0</td>\n",
       "      <td>0</td>\n",
       "      <td>0</td>\n",
       "      <td>0</td>\n",
       "      <td>0</td>\n",
       "      <td>0</td>\n",
       "    </tr>\n",
       "    <tr>\n",
       "      <td>4</td>\n",
       "      <td>Cupping Therapy</td>\n",
       "      <td>dehydration fever rash infection mental disord...</td>\n",
       "      <td>improved circulation better sleep pain relief ...</td>\n",
       "      <td>0</td>\n",
       "      <td>0</td>\n",
       "      <td>0</td>\n",
       "      <td>0</td>\n",
       "      <td>0</td>\n",
       "      <td>0</td>\n",
       "      <td>0</td>\n",
       "      <td>...</td>\n",
       "      <td>0</td>\n",
       "      <td>0</td>\n",
       "      <td>1</td>\n",
       "      <td>0</td>\n",
       "      <td>0</td>\n",
       "      <td>1</td>\n",
       "      <td>0</td>\n",
       "      <td>0</td>\n",
       "      <td>0</td>\n",
       "      <td>0</td>\n",
       "    </tr>\n",
       "  </tbody>\n",
       "</table>\n",
       "<p>5 rows × 545 columns</p>\n",
       "</div>"
      ],
      "text/plain": [
       "                    modality  \\\n",
       "0         Myofascial Massage   \n",
       "1           Prenatal Massage   \n",
       "2            Shiatsu Massage   \n",
       "3  Hot Stone Therapy Massage   \n",
       "4            Cupping Therapy   \n",
       "\n",
       "                         lemmatizedContraindications  \\\n",
       "0  dehydration local site wound sore sensitive sk...   \n",
       "1  dehydration high risk pregnancy history painfu...   \n",
       "2  dehydration fever rash infection mental disord...   \n",
       "3  dehydration fever rash infection mental disord...   \n",
       "4  dehydration fever rash infection mental disord...   \n",
       "\n",
       "                                  lemmatizedBenefits  ache.improve  \\\n",
       "0      muscle trauma muscle spasm pain trigger point             0   \n",
       "1  improved circulation better sleep pain relief ...             0   \n",
       "2  improved circulation relaxing detox break apar...             0   \n",
       "3   relax client reduce stress calming increase h...             0   \n",
       "4  improved circulation better sleep pain relief ...             0   \n",
       "\n",
       "   ache.relieve  acute.pain  adhesion.heal  adhesion.improve  \\\n",
       "0             0           0              0                 0   \n",
       "1             0           0              0                 0   \n",
       "2             0           0              0                 0   \n",
       "3             0           0              0                 1   \n",
       "4             0           0              0                 0   \n",
       "\n",
       "   adhesion.improves  adhesion.increase  ...  unable.sit.still  \\\n",
       "0                  0                  0  ...                 0   \n",
       "1                  0                  0  ...                 0   \n",
       "2                  1                  0  ...                 0   \n",
       "3                  0                  0  ...                 0   \n",
       "4                  0                  0  ...                 0   \n",
       "\n",
       "   uterine.disease.fibroid  wound.anemia.blood  wound.aneurism.history  \\\n",
       "0                        0                   0                       0   \n",
       "1                        1                   0                       0   \n",
       "2                        0                   0                       0   \n",
       "3                        0                   0                       0   \n",
       "4                        0                   1                       0   \n",
       "\n",
       "   wound.area.sore  wound.cut.rash  wound.directly.surgical  \\\n",
       "0                0               0                        0   \n",
       "1                0               0                        0   \n",
       "2                0               0                        0   \n",
       "3                0               0                        0   \n",
       "4                0               1                        0   \n",
       "\n",
       "   wound.pregnant.heart  wound.skin.rash  wound.sore.sensitive  \n",
       "0                     0                0                     1  \n",
       "1                     0                0                     0  \n",
       "2                     0                0                     0  \n",
       "3                     0                0                     0  \n",
       "4                     0                0                     0  \n",
       "\n",
       "[5 rows x 545 columns]"
      ]
     },
     "execution_count": 113,
     "metadata": {},
     "output_type": "execute_result"
    }
   ],
   "source": [
    "data.head()"
   ]
  },
  {
   "cell_type": "code",
   "execution_count": 114,
   "metadata": {},
   "outputs": [],
   "source": [
    "np.random.seed(123)\n",
    "data0 = data.reindex(np.random.permutation(data.index))"
   ]
  },
  {
   "cell_type": "code",
   "execution_count": 115,
   "metadata": {},
   "outputs": [],
   "source": [
    "data1 = data0.iloc[:,3:]"
   ]
  },
  {
   "cell_type": "code",
   "execution_count": 116,
   "metadata": {},
   "outputs": [
    {
     "data": {
      "text/plain": [
       "(456, 542)"
      ]
     },
     "execution_count": 116,
     "metadata": {},
     "output_type": "execute_result"
    }
   ],
   "source": [
    "data1.shape"
   ]
  },
  {
   "cell_type": "code",
   "execution_count": 117,
   "metadata": {},
   "outputs": [],
   "source": [
    "target=data0.iloc[:,0:1]"
   ]
  },
  {
   "cell_type": "code",
   "execution_count": 118,
   "metadata": {},
   "outputs": [
    {
     "data": {
      "text/plain": [
       "(456, 1)"
      ]
     },
     "execution_count": 118,
     "metadata": {},
     "output_type": "execute_result"
    }
   ],
   "source": [
    "target.shape"
   ]
  },
  {
   "cell_type": "code",
   "execution_count": 119,
   "metadata": {},
   "outputs": [
    {
     "name": "stdout",
     "output_type": "stream",
     "text": [
      "['Hot Stone Therapy Massage' 'Cold Stone Therapy' 'Reflexology Massage'\n",
      " 'Deep tissue Massage' 'Lymphatic Drainage Massage' 'Stretching'\n",
      " 'Aromatherapy' 'Trigger Point Therapy' 'Biofreeze Muscle Pain Relief Gel'\n",
      " 'Shiatsu Massage' 'Massage Gun Therapy' 'Cupping Therapy'\n",
      " 'Cannabidiol (CBD) Massage Balm' 'Sports Massage' 'Myofascial Massage'\n",
      " 'Craniosacral Massage' 'Prenatal Massage'\n",
      " 'Instrument Assisted Soft Tissue Mobilization (IASTM) Friction Massage'\n",
      " 'Swedish Massage']\n",
      "19\n"
     ]
    }
   ],
   "source": [
    "print(target['modality'].unique())\n",
    "print(len(target['modality'].unique()))"
   ]
  },
  {
   "cell_type": "markdown",
   "metadata": {},
   "source": [
    "**data1** and **target** are the data table of features and the target variable."
   ]
  },
  {
   "cell_type": "markdown",
   "metadata": {},
   "source": [
    "Mean Centering and normalization of the data1 features and the target"
   ]
  },
  {
   "cell_type": "code",
   "execution_count": 120,
   "metadata": {},
   "outputs": [
    {
     "name": "stdout",
     "output_type": "stream",
     "text": [
      "(456, 542) (456, 1)\n"
     ]
    }
   ],
   "source": [
    "\n",
    "mean_vals = np.mean(data1, axis=0)\n",
    "std_val = np.std(data1)\n",
    "\n",
    "data1_centered = (data1 - mean_vals)/std_val\n",
    "\n",
    "print(data1_centered.shape, target.shape)\n"
   ]
  },
  {
   "cell_type": "code",
   "execution_count": 121,
   "metadata": {},
   "outputs": [
    {
     "name": "stdout",
     "output_type": "stream",
     "text": [
      "     ache.improve  ache.relieve  acute.pain  adhesion.heal  adhesion.improve  \\\n",
      "49              0             0           0              0                 1   \n",
      "85              0             0           0              0                 0   \n",
      "34              0             0           0              0                 0   \n",
      "381             0             0           0              0                 1   \n",
      "232             0             0           0              0                 0   \n",
      "\n",
      "     adhesion.improves  adhesion.increase  adhesion.stress  \\\n",
      "49                   0                  0                0   \n",
      "85                   0                  0                0   \n",
      "34                   0                  0                0   \n",
      "381                  0                  0                0   \n",
      "232                  0                  0                0   \n",
      "\n",
      "     alleviate.headache  anxiety.stress  ...  unable.sit.still  \\\n",
      "49                    0               0  ...                 0   \n",
      "85                    1               0  ...                 0   \n",
      "34                    0               0  ...                 0   \n",
      "381                   0               0  ...                 0   \n",
      "232                   0               0  ...                 0   \n",
      "\n",
      "     uterine.disease.fibroid  wound.anemia.blood  wound.aneurism.history  \\\n",
      "49                         0                   0                       0   \n",
      "85                         0                   0                       1   \n",
      "34                         0                   0                       0   \n",
      "381                        0                   0                       0   \n",
      "232                        0                   0                       0   \n",
      "\n",
      "     wound.area.sore  wound.cut.rash  wound.directly.surgical  \\\n",
      "49                 0               0                        0   \n",
      "85                 0               0                        0   \n",
      "34                 0               0                        0   \n",
      "381                0               0                        0   \n",
      "232                0               0                        0   \n",
      "\n",
      "     wound.pregnant.heart  wound.skin.rash  wound.sore.sensitive  \n",
      "49                      0                0                     0  \n",
      "85                      0                0                     0  \n",
      "34                      0                0                     0  \n",
      "381                     0                0                     0  \n",
      "232                     1                0                     0  \n",
      "\n",
      "[5 rows x 542 columns]\n"
     ]
    }
   ],
   "source": [
    "print(data1.head())"
   ]
  },
  {
   "cell_type": "code",
   "execution_count": 122,
   "metadata": {},
   "outputs": [
    {
     "name": "stdout",
     "output_type": "stream",
     "text": [
      "                       modality\n",
      "49    Hot Stone Therapy Massage\n",
      "85           Cold Stone Therapy\n",
      "34          Reflexology Massage\n",
      "381         Deep tissue Massage\n",
      "232  Lymphatic Drainage Massage\n"
     ]
    }
   ],
   "source": [
    "print(target.head())"
   ]
  },
  {
   "cell_type": "code",
   "execution_count": 123,
   "metadata": {},
   "outputs": [
    {
     "data": {
      "text/plain": [
       "{'Aromatherapy': 0,\n",
       " 'Biofreeze Muscle Pain Relief Gel': 1,\n",
       " 'Cannabidiol (CBD) Massage Balm': 2,\n",
       " 'Cold Stone Therapy': 3,\n",
       " 'Craniosacral Massage': 4,\n",
       " 'Cupping Therapy': 5,\n",
       " 'Deep tissue Massage': 6,\n",
       " 'Hot Stone Therapy Massage': 7,\n",
       " 'Instrument Assisted Soft Tissue Mobilization (IASTM) Friction Massage': 8,\n",
       " 'Lymphatic Drainage Massage': 9,\n",
       " 'Massage Gun Therapy': 10,\n",
       " 'Myofascial Massage': 11,\n",
       " 'Prenatal Massage': 12,\n",
       " 'Reflexology Massage': 13,\n",
       " 'Shiatsu Massage': 14,\n",
       " 'Sports Massage': 15,\n",
       " 'Stretching': 16,\n",
       " 'Swedish Massage': 17,\n",
       " 'Trigger Point Therapy': 18}"
      ]
     },
     "execution_count": 123,
     "metadata": {},
     "output_type": "execute_result"
    }
   ],
   "source": [
    "#numpy function\n",
    "\n",
    "class_mapping = {label: idx for idx, label in enumerate(np.unique(target['modality']))}\n",
    "class_mapping"
   ]
  },
  {
   "cell_type": "code",
   "execution_count": 124,
   "metadata": {},
   "outputs": [],
   "source": [
    "target['mode']=target['modality']"
   ]
  },
  {
   "cell_type": "code",
   "execution_count": 125,
   "metadata": {},
   "outputs": [],
   "source": [
    "target['modality'] = target['modality'].map(class_mapping)"
   ]
  },
  {
   "cell_type": "code",
   "execution_count": 126,
   "metadata": {},
   "outputs": [
    {
     "data": {
      "text/html": [
       "<div>\n",
       "<style scoped>\n",
       "    .dataframe tbody tr th:only-of-type {\n",
       "        vertical-align: middle;\n",
       "    }\n",
       "\n",
       "    .dataframe tbody tr th {\n",
       "        vertical-align: top;\n",
       "    }\n",
       "\n",
       "    .dataframe thead th {\n",
       "        text-align: right;\n",
       "    }\n",
       "</style>\n",
       "<table border=\"1\" class=\"dataframe\">\n",
       "  <thead>\n",
       "    <tr style=\"text-align: right;\">\n",
       "      <th></th>\n",
       "      <th>modality</th>\n",
       "      <th>mode</th>\n",
       "    </tr>\n",
       "  </thead>\n",
       "  <tbody>\n",
       "    <tr>\n",
       "      <td>49</td>\n",
       "      <td>7</td>\n",
       "      <td>Hot Stone Therapy Massage</td>\n",
       "    </tr>\n",
       "    <tr>\n",
       "      <td>85</td>\n",
       "      <td>3</td>\n",
       "      <td>Cold Stone Therapy</td>\n",
       "    </tr>\n",
       "    <tr>\n",
       "      <td>34</td>\n",
       "      <td>13</td>\n",
       "      <td>Reflexology Massage</td>\n",
       "    </tr>\n",
       "    <tr>\n",
       "      <td>381</td>\n",
       "      <td>6</td>\n",
       "      <td>Deep tissue Massage</td>\n",
       "    </tr>\n",
       "    <tr>\n",
       "      <td>232</td>\n",
       "      <td>9</td>\n",
       "      <td>Lymphatic Drainage Massage</td>\n",
       "    </tr>\n",
       "  </tbody>\n",
       "</table>\n",
       "</div>"
      ],
      "text/plain": [
       "     modality                        mode\n",
       "49          7   Hot Stone Therapy Massage\n",
       "85          3          Cold Stone Therapy\n",
       "34         13         Reflexology Massage\n",
       "381         6         Deep tissue Massage\n",
       "232         9  Lymphatic Drainage Massage"
      ]
     },
     "execution_count": 126,
     "metadata": {},
     "output_type": "execute_result"
    }
   ],
   "source": [
    "target.head()"
   ]
  },
  {
   "cell_type": "code",
   "execution_count": 127,
   "metadata": {},
   "outputs": [],
   "source": [
    "target1 = target['modality']"
   ]
  },
  {
   "cell_type": "code",
   "execution_count": 128,
   "metadata": {},
   "outputs": [
    {
     "data": {
      "text/plain": [
       "49      7\n",
       "85      3\n",
       "34     13\n",
       "381     6\n",
       "232     9\n",
       "Name: modality, dtype: int64"
      ]
     },
     "execution_count": 128,
     "metadata": {},
     "output_type": "execute_result"
    }
   ],
   "source": [
    "target1.head()"
   ]
  },
  {
   "cell_type": "code",
   "execution_count": 129,
   "metadata": {},
   "outputs": [
    {
     "name": "stdout",
     "output_type": "stream",
     "text": [
      "(365, 542)\n",
      "(365,)\n",
      "(91, 542)\n",
      "(91,)\n"
     ]
    }
   ],
   "source": [
    "# Split/splice into training ~ 80% and testing ~ 20%\n",
    "X_train = data1[:365]\n",
    "X_test = data1[365:]\n",
    "y_train = target1[:365]\n",
    "y_test = target1[365:]\n",
    "\n",
    "################################\n",
    "# for adding the names of the classes after prediction from earlier in script\n",
    "y_trainNames = target['mode']\n",
    "y_trainNames = y_trainNames[:365]\n",
    "y_trainNames.columns=['mode']\n",
    "y_trainNames1=pd.DataFrame(y_trainNames)\n",
    "\n",
    "y_testNames = target['mode']\n",
    "y_testNames = y_testNames[365:]\n",
    "y_testNames.columns=['mode']\n",
    "y_testNames1=pd.DataFrame(y_testNames)\n",
    "################################\n",
    "\n",
    "print(X_train.shape)\n",
    "print(y_train.shape)\n",
    "print(X_test.shape)\n",
    "print(y_test.shape)\n",
    "\n"
   ]
  },
  {
   "cell_type": "code",
   "execution_count": 130,
   "metadata": {},
   "outputs": [
    {
     "data": {
      "text/plain": [
       "49      7\n",
       "85      3\n",
       "34     13\n",
       "381     6\n",
       "232     9\n",
       "       ..\n",
       "103    16\n",
       "149    14\n",
       "139     4\n",
       "67     10\n",
       "3       7\n",
       "Name: modality, Length: 365, dtype: int64"
      ]
     },
     "execution_count": 130,
     "metadata": {},
     "output_type": "execute_result"
    }
   ],
   "source": [
    "y_train"
   ]
  },
  {
   "cell_type": "markdown",
   "metadata": {},
   "source": [
    "Our data sets are centered, scaled, permutated, and split into 80% training and 20% testing data sets."
   ]
  },
  {
   "cell_type": "code",
   "execution_count": 131,
   "metadata": {},
   "outputs": [],
   "source": [
    "import tensorflow as tf\n",
    "import tensorflow.contrib.keras as keras\n",
    "#optionally use import tensorflow.keras as keras when no longer experimental contributor package development\n",
    "\n",
    "np.random.seed(123)\n",
    "tf.set_random_seed(123)"
   ]
  },
  {
   "cell_type": "code",
   "execution_count": 132,
   "metadata": {},
   "outputs": [],
   "source": [
    "# y_train_onehot = keras.utils.to_categorical(y_train)"
   ]
  },
  {
   "cell_type": "markdown",
   "metadata": {},
   "source": [
    "There is a problem with the tensorflow.contrib.keras function keras.utils.to_categorical() \n",
    "there is an error and it won't convert the string labels as integers. I tried different searches, and they\n",
    "produced different errors. This worked on the numeric data this script was built for, but not on the \n",
    "multiclass labels in this data."
   ]
  },
  {
   "cell_type": "code",
   "execution_count": 133,
   "metadata": {},
   "outputs": [],
   "source": [
    "model = keras.models.Sequential()\n",
    "\n",
    "model.add(\n",
    "    keras.layers.Dense(\n",
    "        units=150,   #output units need to match next layer inputs \n",
    "        input_dim=542, #number of features for input\n",
    "        kernel_initializer='glorot_uniform',# name of the guy behind Xavier Initialization; the biases to zero\n",
    "        bias_initializer='zeros',\n",
    "        activation='tanh'))\n",
    "\n",
    "model.add(\n",
    "    keras.layers.Dense(\n",
    "        units=150,   #output matches next layer input \n",
    "        input_dim=150, #input matches last layer's output\n",
    "        kernel_initializer='glorot_uniform',\n",
    "        bias_initializer='zeros',\n",
    "        activation='tanh'))\n",
    "\n",
    "model.add(\n",
    "    keras.layers.Dense(\n",
    "        units=19,  #these are the number of class categories in our target  \n",
    "        input_dim=150,\n",
    "        kernel_initializer='glorot_uniform',\n",
    "        bias_initializer='zeros',\n",
    "        activation='softmax'))#will return the class membership probs summing to 1 of all class probs\n",
    "\n",
    "# these are hyperparameters that can be tuned if overfitting during training, or to get better accuracy\n",
    "sgd_optimizer = keras.optimizers.SGD( \n",
    "        lr=0.001, decay=1e-7, momentum=.9)\n",
    "\n",
    "# categorical_crossentropy is used in multiclass classification instead of binary_crossentropy\n",
    "# to match the softmax function\n",
    "model.compile(optimizer=sgd_optimizer,\n",
    "              loss='sparse_categorical_crossentropy')\n",
    "# it was 'categorical_crossentropy', but that expects binary matrices of 1s and 0s\n",
    "# it said to use sparse_categorical_crossentropy"
   ]
  },
  {
   "cell_type": "code",
   "execution_count": 134,
   "metadata": {},
   "outputs": [
    {
     "name": "stdout",
     "output_type": "stream",
     "text": [
      "Train on 328 samples, validate on 37 samples\n",
      "Epoch 1/50\n",
      "328/328 [==============================] - 1s 4ms/sample - loss: 3.0164 - val_loss: 2.8514\n",
      "Epoch 2/50\n",
      "328/328 [==============================] - 0s 194us/sample - loss: 2.9158 - val_loss: 2.7417\n",
      "Epoch 3/50\n",
      "328/328 [==============================] - 0s 220us/sample - loss: 2.7603 - val_loss: 2.6051\n",
      "Epoch 4/50\n",
      "328/328 [==============================] - 0s 207us/sample - loss: 2.5740 - val_loss: 2.4647\n",
      "Epoch 5/50\n",
      "328/328 [==============================] - 0s 305us/sample - loss: 2.3818 - val_loss: 2.3127\n",
      "Epoch 6/50\n",
      "328/328 [==============================] - 0s 360us/sample - loss: 2.1970 - val_loss: 2.1660\n",
      "Epoch 7/50\n",
      "328/328 [==============================] - 0s 387us/sample - loss: 2.0229 - val_loss: 2.0198\n",
      "Epoch 8/50\n",
      "328/328 [==============================] - 0s 293us/sample - loss: 1.8587 - val_loss: 1.8857\n",
      "Epoch 9/50\n",
      "328/328 [==============================] - 0s 314us/sample - loss: 1.7047 - val_loss: 1.7513\n",
      "Epoch 10/50\n",
      "328/328 [==============================] - 0s 485us/sample - loss: 1.5636 - val_loss: 1.6265\n",
      "Epoch 11/50\n",
      "328/328 [==============================] - 0s 198us/sample - loss: 1.4320 - val_loss: 1.5003\n",
      "Epoch 12/50\n",
      "328/328 [==============================] - 0s 274us/sample - loss: 1.3133 - val_loss: 1.3856\n",
      "Epoch 13/50\n",
      "328/328 [==============================] - 0s 299us/sample - loss: 1.2034 - val_loss: 1.2835\n",
      "Epoch 14/50\n",
      "328/328 [==============================] - 0s 232us/sample - loss: 1.1036 - val_loss: 1.1849\n",
      "Epoch 15/50\n",
      "328/328 [==============================] - 0s 274us/sample - loss: 1.0136 - val_loss: 1.0946\n",
      "Epoch 16/50\n",
      "328/328 [==============================] - 0s 223us/sample - loss: 0.9319 - val_loss: 1.0087\n",
      "Epoch 17/50\n",
      "328/328 [==============================] - 0s 235us/sample - loss: 0.8567 - val_loss: 0.9360\n",
      "Epoch 18/50\n",
      "328/328 [==============================] - 0s 226us/sample - loss: 0.7892 - val_loss: 0.8679\n",
      "Epoch 19/50\n",
      "328/328 [==============================] - 0s 274us/sample - loss: 0.7275 - val_loss: 0.8044\n",
      "Epoch 20/50\n",
      "328/328 [==============================] - 0s 457us/sample - loss: 0.6717 - val_loss: 0.7478\n",
      "Epoch 21/50\n",
      "328/328 [==============================] - 0s 207us/sample - loss: 0.6223 - val_loss: 0.6983\n",
      "Epoch 22/50\n",
      "328/328 [==============================] - 0s 290us/sample - loss: 0.5785 - val_loss: 0.6518\n",
      "Epoch 23/50\n",
      "328/328 [==============================] - 0s 262us/sample - loss: 0.5387 - val_loss: 0.6096\n",
      "Epoch 24/50\n",
      "328/328 [==============================] - 0s 238us/sample - loss: 0.5029 - val_loss: 0.5720\n",
      "Epoch 25/50\n",
      "328/328 [==============================] - 0s 204us/sample - loss: 0.4697 - val_loss: 0.5360\n",
      "Epoch 26/50\n",
      "328/328 [==============================] - 0s 198us/sample - loss: 0.4401 - val_loss: 0.5045\n",
      "Epoch 27/50\n",
      "328/328 [==============================] - 0s 204us/sample - loss: 0.4132 - val_loss: 0.4751\n",
      "Epoch 28/50\n",
      "328/328 [==============================] - 0s 281us/sample - loss: 0.3884 - val_loss: 0.4485\n",
      "Epoch 29/50\n",
      "328/328 [==============================] - 0s 213us/sample - loss: 0.3664 - val_loss: 0.4222\n",
      "Epoch 30/50\n",
      "328/328 [==============================] - 0s 241us/sample - loss: 0.3461 - val_loss: 0.3986\n",
      "Epoch 31/50\n",
      "328/328 [==============================] - 0s 535us/sample - loss: 0.3273 - val_loss: 0.3778\n",
      "Epoch 32/50\n",
      "328/328 [==============================] - 0s 207us/sample - loss: 0.3106 - val_loss: 0.3582\n",
      "Epoch 33/50\n",
      "328/328 [==============================] - 0s 204us/sample - loss: 0.2949 - val_loss: 0.3403\n",
      "Epoch 34/50\n",
      "328/328 [==============================] - 0s 238us/sample - loss: 0.2807 - val_loss: 0.3236\n",
      "Epoch 35/50\n",
      "328/328 [==============================] - 0s 189us/sample - loss: 0.2678 - val_loss: 0.3077\n",
      "Epoch 36/50\n",
      "328/328 [==============================] - 0s 220us/sample - loss: 0.2555 - val_loss: 0.2933\n",
      "Epoch 37/50\n",
      "328/328 [==============================] - 0s 229us/sample - loss: 0.2442 - val_loss: 0.2799\n",
      "Epoch 38/50\n",
      "328/328 [==============================] - 0s 198us/sample - loss: 0.2338 - val_loss: 0.2679\n",
      "Epoch 39/50\n",
      "328/328 [==============================] - 0s 210us/sample - loss: 0.2241 - val_loss: 0.2565\n",
      "Epoch 40/50\n",
      "328/328 [==============================] - 0s 201us/sample - loss: 0.2152 - val_loss: 0.2461\n",
      "Epoch 41/50\n",
      "328/328 [==============================] - 0s 213us/sample - loss: 0.2068 - val_loss: 0.2365\n",
      "Epoch 42/50\n",
      "328/328 [==============================] - 0s 207us/sample - loss: 0.1989 - val_loss: 0.2276\n",
      "Epoch 43/50\n",
      "328/328 [==============================] - 0s 296us/sample - loss: 0.1916 - val_loss: 0.2193\n",
      "Epoch 44/50\n",
      "328/328 [==============================] - 0s 323us/sample - loss: 0.1847 - val_loss: 0.2113\n",
      "Epoch 45/50\n",
      "328/328 [==============================] - 1s 2ms/sample - loss: 0.1781 - val_loss: 0.2040\n",
      "Epoch 46/50\n",
      "328/328 [==============================] - 1s 2ms/sample - loss: 0.1720 - val_loss: 0.1972\n",
      "Epoch 47/50\n",
      "328/328 [==============================] - 1s 2ms/sample - loss: 0.1663 - val_loss: 0.1904\n",
      "Epoch 48/50\n",
      "328/328 [==============================] - 0s 235us/sample - loss: 0.1609 - val_loss: 0.1841\n",
      "Epoch 49/50\n",
      "328/328 [==============================] - 0s 186us/sample - loss: 0.1558 - val_loss: 0.1782\n",
      "Epoch 50/50\n",
      "328/328 [==============================] - 0s 213us/sample - loss: 0.1510 - val_loss: 0.1729\n"
     ]
    }
   ],
   "source": [
    "history = model.fit(X_train, y_train,\n",
    "                    batch_size=64, epochs=50,\n",
    "                    verbose=1, #setting verbose=1 will allow us to see the training and stop to tune parameters if needed\n",
    "                    validation_split=0.1) # this takes 10% of the training set held out for testing/validation at each epoch"
   ]
  },
  {
   "cell_type": "code",
   "execution_count": 135,
   "metadata": {},
   "outputs": [
    {
     "name": "stdout",
     "output_type": "stream",
     "text": [
      "First 3 predictions:  [ 7  3 13]\n"
     ]
    }
   ],
   "source": [
    "y_train_pred = model.predict_classes(X_train, verbose=0)\n",
    "print('First 3 predictions: ', y_train_pred[:3])"
   ]
  },
  {
   "cell_type": "code",
   "execution_count": 136,
   "metadata": {},
   "outputs": [],
   "source": [
    "y_train_pred = model.predict_classes(X_train, \n",
    "                                     verbose=0)"
   ]
  },
  {
   "cell_type": "code",
   "execution_count": 137,
   "metadata": {},
   "outputs": [
    {
     "name": "stdout",
     "output_type": "stream",
     "text": [
      "     modality                        mode  predicted\n",
      "49          7   Hot Stone Therapy Massage          7\n",
      "85          3          Cold Stone Therapy          3\n",
      "34         13         Reflexology Massage         13\n",
      "381         6         Deep tissue Massage          6\n",
      "232         9  Lymphatic Drainage Massage          9\n",
      "..        ...                         ...        ...\n",
      "103        16                  Stretching         16\n",
      "149        14             Shiatsu Massage         14\n",
      "139         4        Craniosacral Massage          4\n",
      "67         10         Massage Gun Therapy         10\n",
      "3           7   Hot Stone Therapy Massage          7\n",
      "\n",
      "[365 rows x 3 columns]\n"
     ]
    }
   ],
   "source": [
    "y_train_pred1 = pd.DataFrame(y_train_pred)\n",
    "y_train_pred1.columns=['predicted']\n",
    "\n",
    "y_train1 = y_train\n",
    "y_train1.columns=['modality']\n",
    "y_train1 = pd.DataFrame(y_train1)\n",
    "y_train_pred1.index=y_train1.index\n",
    "\n",
    "Train=pd.concat([y_train1['modality'],y_trainNames1['mode'],y_train_pred1['predicted']],axis=1)\n",
    "\n",
    "print(Train)"
   ]
  },
  {
   "cell_type": "code",
   "execution_count": 138,
   "metadata": {},
   "outputs": [],
   "source": [
    "y_test_pred = model.predict_classes(X_test, \n",
    "                                    verbose=0)\n",
    "\n"
   ]
  },
  {
   "cell_type": "code",
   "execution_count": 139,
   "metadata": {},
   "outputs": [
    {
     "name": "stdout",
     "output_type": "stream",
     "text": [
      "     modality                                               mode  predicted\n",
      "342         8  Instrument Assisted Soft Tissue Mobilization (...          8\n",
      "56         10                                Massage Gun Therapy         10\n",
      "304         8  Instrument Assisted Soft Tissue Mobilization (...          8\n",
      "233         9                         Lymphatic Drainage Massage          9\n",
      "51          2                     Cannabidiol (CBD) Massage Balm          2\n",
      "..        ...                                                ...        ...\n",
      "230        16                                         Stretching         16\n",
      "98          9                         Lymphatic Drainage Massage          9\n",
      "322        12                                   Prenatal Massage         12\n",
      "382         3                                 Cold Stone Therapy          3\n",
      "365         2                     Cannabidiol (CBD) Massage Balm          2\n",
      "\n",
      "[91 rows x 3 columns]\n"
     ]
    }
   ],
   "source": [
    "y_test_pred1 = pd.DataFrame(y_test_pred)\n",
    "y_test_pred1.columns=['predicted']\n",
    "\n",
    "y_test1 = y_test\n",
    "y_test1.columns=['modality']\n",
    "y_test1 = pd.DataFrame(y_test1)\n",
    "y_test_pred1.index=y_test1.index\n",
    "\n",
    "Test=pd.concat([y_test1['modality'],y_testNames1['mode'],y_test_pred1['predicted']],axis=1)\n",
    "\n",
    "print(Test)"
   ]
  },
  {
   "cell_type": "code",
   "execution_count": 140,
   "metadata": {},
   "outputs": [
    {
     "name": "stdout",
     "output_type": "stream",
     "text": [
      "Training Correctly Predicted: 365 Training Accuracy: 1.0 \n",
      "\n"
     ]
    }
   ],
   "source": [
    "s = sum(Train['modality']==Train['predicted'])\n",
    "l = len(Train['modality'])\n",
    "accTrain = s/l\n",
    "print('Training Correctly Predicted:',s,'Training Accuracy:',accTrain,'\\n')"
   ]
  },
  {
   "cell_type": "code",
   "execution_count": 141,
   "metadata": {},
   "outputs": [
    {
     "name": "stdout",
     "output_type": "stream",
     "text": [
      "Testing Correctly Predicted: 91 Testing Accuracy: 1.0\n"
     ]
    }
   ],
   "source": [
    "s = sum(Test['modality']==Test['predicted'])\n",
    "l = len(Test['modality'])\n",
    "accTest = s/l\n",
    "print('Testing Correctly Predicted:',s,'Testing Accuracy:',accTest)"
   ]
  },
  {
   "cell_type": "code",
   "execution_count": null,
   "metadata": {},
   "outputs": [],
   "source": []
  }
 ],
 "metadata": {
  "kernelspec": {
   "display_name": "Python 3",
   "language": "python",
   "name": "python3"
  },
  "language_info": {
   "codemirror_mode": {
    "name": "ipython",
    "version": 3
   },
   "file_extension": ".py",
   "mimetype": "text/x-python",
   "name": "python",
   "nbconvert_exporter": "python",
   "pygments_lexer": "ipython3",
   "version": "3.6.9"
  }
 },
 "nbformat": 4,
 "nbformat_minor": 2
}
